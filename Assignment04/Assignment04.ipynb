{
 "cells": [
  {
   "cell_type": "markdown",
   "metadata": {},
   "source": [
    "[K-means clustering]\n",
    "\n",
    "1. Apply K-means clustering to MNIST training dataset with different K = 5, 10, 15, 20 and present the following results for each K.\n",
    "2. Visualize K centroid images for each category.\n",
    "3. Plot the training energy per optimization iteration.\n",
    "4. Plot the training accuracy per optimization iteration.\n",
    "5. Plot the testing accuracy per optimization iteration.\n",
    "\n",
    "[energy]\n",
    "\n",
    "$\\sum_{k = 1}^K \\| x_i - c_{k_i} \\|^2$\n",
    "where $k_i$ denotes the category of $x_i$, and $c_{k_i}$ denotes the centroid of category $x_i$.\n",
    "\n",
    "[accuracy]\n",
    "\n",
    "$\\frac{\\sum_{k = 1}^K m_k}{N}$\n",
    "where $N$ denotes the total number of data, and $m_k$ denotes the number of data with majority for category $k$.\n",
    "\n",
    "- (training energy) is computed on the training dataset.\n",
    "- (training accuracy) is computed on the training dataset.\n",
    "- (testing accuracy) is computed on the testing dataset.\n"
   ]
  },
  {
   "cell_type": "markdown",
   "metadata": {},
   "source": [
    "$ k $-means algorithm\n",
    "\n",
    "- alternate between updating the partition, then the representatives\n",
    "- a famous algorithm called $k$-$means$\n",
    "- objective $J^{clust}$ decreases in each step\n",
    "\n",
    "given $x_{1},...,x_{N} \\in R^{n}$ and $z_{1},...z_{k} \\in R^{n}$\n",
    "\n",
    "repeat  \n",
    "Update partition: assign $i$ to $G_j,j=argmin_{j'}\\|x_i-z_{j'}\\|^2$  \n",
    "Update centroids: $z_j=\\frac{1}{\\mid P_j\\mid}\\sum_{i \\in p_j'}{x_i}$\n",
    "    \n",
    "until $z_1,...,z_k$ stop changing"
   ]
  },
  {
   "cell_type": "code",
   "execution_count": 1,
   "metadata": {},
   "outputs": [],
   "source": [
    "import matplotlib.pyplot as plt\n",
    "import numpy as np"
   ]
  },
  {
   "cell_type": "code",
   "execution_count": 29,
   "metadata": {},
   "outputs": [],
   "source": [
    "file_data\t\t= \"mnist_train.csv\"\n",
    "handle_file\t= open(file_data, \"r\")\n",
    "data        \t\t= handle_file.readlines()\n",
    "handle_file.close()\n",
    "\n",
    "size_row\t= 28    # height of the image\n",
    "size_col  \t= 28    # width of the image\n",
    "\n",
    "num_image\t= len(data)\n",
    "count       \t= 0     # count for the number of images"
   ]
  },
  {
   "cell_type": "code",
   "execution_count": 3,
   "metadata": {},
   "outputs": [],
   "source": [
    "#\n",
    "# normalize the values of the input data to be [0, 1]\n",
    "#\n",
    "def normalize(data):\n",
    "\n",
    "    data_normalized = (data - min(data)) / (max(data) - min(data))\n",
    "\n",
    "    return(data_normalized)"
   ]
  },
  {
   "cell_type": "code",
   "execution_count": 4,
   "metadata": {},
   "outputs": [],
   "source": [
    "#\n",
    "# example of distance function between two vectors x and y\n",
    "#\n",
    "def distance(x, y):\n",
    "\n",
    "    d = (x - y) ** 2\n",
    "    s = np.sum(d)\n",
    "    # r = np.sqrt(s)\n",
    "\n",
    "    return(s)"
   ]
  },
  {
   "cell_type": "code",
   "execution_count": 30,
   "metadata": {},
   "outputs": [],
   "source": [
    "#\n",
    "# make a matrix each column of which represents an images in a vector form \n",
    "#\n",
    "list_image  = np.empty((size_row * size_col, num_image), dtype=float)\n",
    "list_label  = np.empty(num_image, dtype=int)\n",
    "\n",
    "for line in data:\n",
    "\n",
    "    line_data   = line.split(',')\n",
    "    label       = line_data[0]\n",
    "    im_vector   = np.asfarray(line_data[1:])\n",
    "    im_vector   = normalize(im_vector)\n",
    "\n",
    "    list_label[count]       = label\n",
    "    list_image[:, count]    = im_vector    \n",
    "\n",
    "    count += 1\n",
    "    # print(\"Processed image: %d\" % count)"
   ]
  },
  {
   "cell_type": "code",
   "execution_count": 6,
   "metadata": {},
   "outputs": [
    {
     "name": "stdout",
     "output_type": "stream",
     "text": [
      "Iteration : 0\n",
      "Iteration : 1\n",
      "Iteration : 2\n",
      "Iteration : 3\n",
      "Iteration : 4\n",
      "Iteration : 5\n",
      "Iteration : 6\n",
      "Iteration : 7\n",
      "Iteration : 8\n",
      "Iteration : 9\n"
     ]
    }
   ],
   "source": [
    "#\n",
    "# K-Means clustering\n",
    "#\n",
    "\n",
    "# For K=5\n",
    "K=5\n",
    "# Generate K centroids randomly.\n",
    "centroid = np.random.rand(size_row * size_col, K)\n",
    "cluster = np.empty(num_image, dtype=int)\n",
    "\n",
    "# centroid_previous = np.zeros((size_row * size_col, K))\n",
    "sum_cluster = np.zeros((size_row * size_col, K))\n",
    "count_cluster = np.zeros(K)\n",
    "centroid_previous = np.zeros((size_row * size_col, K))\n",
    "\n",
    "# Clusterization\n",
    "iteration = 0\n",
    "total_cost = []\n",
    "accuracy = []\n",
    "# while not (np.array_equal(centroid_previous, centroid)):\n",
    "for iteration in range(10):\n",
    "    print(\"Iteration : %d\" % iteration)\n",
    "    cost = 0\n",
    "    list_cost = []\n",
    "    centroid_previous = centroid.copy()\n",
    "    for i in range(num_image):\n",
    "        list_distance = np.zeros(K)\n",
    "        for j in range(K):\n",
    "            list_distance[j] = distance(list_image[:,i], centroid[:,j])\n",
    "        cluster[i] = list_distance.argmin()\n",
    "        cost += list_distance.min()\n",
    "    list_cost.append(cost)\n",
    "    total_cost.append(np.sum(list_cost))\n",
    "    #accuracy.append(/num_image)\n",
    "    \n",
    "    # Accuracy\n",
    "    cluster_label = np.zeros((K, 10))\n",
    "    for i in range(num_image):\n",
    "        for j in range(K):\n",
    "            if cluster[i] == j:\n",
    "                cluster_label[j, list_label[i]] += 1\n",
    "    sum_accuracy = 0\n",
    "    for i in range(K):\n",
    "        sum_accuracy += np.max(cluster_label[i,:])\n",
    "    accuracy.append(sum_accuracy / num_image)\n",
    "    \n",
    "    # Update centroids               \n",
    "    for i in range(num_image):\n",
    "        for j in range(K):\n",
    "            if cluster[i] == j:\n",
    "                sum_cluster[:,j] += list_image[:, i]\n",
    "                count_cluster[j] +=1\n",
    "    # Updated centroids\n",
    "    centroid = sum_cluster / count_cluster\n",
    "    sum_cluster.fill(0)\n",
    "    count_cluster.fill(0)"
   ]
  },
  {
   "cell_type": "code",
   "execution_count": 7,
   "metadata": {},
   "outputs": [
    {
     "data": {
      "image/png": "[encoded data removed]",
      "text/plain": [
       "<Figure size 432x288 with 1 Axes>"
      ]
     },
     "metadata": {
      "needs_background": "light"
     },
     "output_type": "display_data"
    },
    {
     "data": {
      "image/png": "[encoded data removed]",
      "text/plain": [
       "<Figure size 432x288 with 1 Axes>"
      ]
     },
     "metadata": {
      "needs_background": "light"
     },
     "output_type": "display_data"
    },
    {
     "data": {
      "image/png": "[encoded data removed]",
      "text/plain": [
       "<Figure size 432x288 with 5 Axes>"
      ]
     },
     "metadata": {
      "needs_background": "light"
     },
     "output_type": "display_data"
    }
   ],
   "source": [
    "# Visualize the cost function\n",
    "plt.title(\"Cost function\")\n",
    "plt.plot(total_cost)\n",
    "plt.show()\n",
    "\n",
    "# Visualize the accuracy\n",
    "plt.title(\"Accuracy\")\n",
    "plt.plot(accuracy)\n",
    "plt.show()\n",
    "\n",
    "# Visualize the centroid image\n",
    "\n",
    "for i in range(K):\n",
    "\n",
    "    label       = list(range(K))\n",
    "    im_vector   = centroid[:, i]\n",
    "    im_matrix   = im_vector.reshape((size_row, size_col))\n",
    "\n",
    "    plt.subplot(K, K, i+1)\n",
    "    plt.imshow(im_matrix, cmap='Greys', interpolation='None')\n",
    "\n",
    "    frame   = plt.gca()\n",
    "    frame.axes.get_xaxis().set_visible(False)\n",
    "    frame.axes.get_yaxis().set_visible(False)\n",
    "\n",
    "plt.show()"
   ]
  },
  {
   "cell_type": "code",
   "execution_count": 15,
   "metadata": {},
   "outputs": [
    {
     "name": "stdout",
     "output_type": "stream",
     "text": [
      "Iteration : 0\n",
      "Iteration : 1\n",
      "Iteration : 2\n",
      "Iteration : 3\n",
      "Iteration : 4\n",
      "Iteration : 5\n",
      "Iteration : 6\n",
      "Iteration : 7\n",
      "Iteration : 8\n",
      "Iteration : 9\n"
     ]
    }
   ],
   "source": [
    "#\n",
    "# K-Means clustering\n",
    "#\n",
    "\n",
    "# For K=10\n",
    "K=10\n",
    "# Generate K centroids randomly.\n",
    "centroid = np.random.rand(size_row * size_col, K)\n",
    "cluster = np.empty(num_image, dtype=int)\n",
    "\n",
    "# centroid_previous = np.zeros((size_row * size_col, K))\n",
    "sum_cluster = np.zeros((size_row * size_col, K))\n",
    "count_cluster = np.zeros(K)\n",
    "centroid_previous = np.zeros((size_row * size_col, K))\n",
    "\n",
    "# Clusterization\n",
    "iteration = 0\n",
    "total_cost = []\n",
    "accuracy = []\n",
    "# while not (np.array_equal(centroid_previous, centroid)):\n",
    "for iteration in range(10):\n",
    "    print(\"Iteration : %d\" % iteration)\n",
    "    cost = 0\n",
    "    list_cost = []\n",
    "    centroid_previous = centroid.copy()\n",
    "    for i in range(num_image):\n",
    "        list_distance = np.zeros(K)\n",
    "        for j in range(K):\n",
    "            list_distance[j] = distance(list_image[:,i], centroid[:,j])\n",
    "        cluster[i] = list_distance.argmin()\n",
    "        cost += list_distance.min()\n",
    "    list_cost.append(cost)\n",
    "    total_cost.append(np.sum(list_cost))\n",
    "    #accuracy.append(/num_image)\n",
    "\n",
    "    # Accuracy\n",
    "    cluster_label = np.zeros((K, 10))\n",
    "    for i in range(num_image):\n",
    "        for j in range(K):\n",
    "            if cluster[i] == j:\n",
    "                cluster_label[j, list_label[i]] += 1\n",
    "    sum_accuracy = 0\n",
    "    for i in range(K):\n",
    "        sum_accuracy += np.max(cluster_label[i,:])\n",
    "    accuracy.append(sum_accuracy / num_image)\n",
    "    \n",
    "    # Update centroids               \n",
    "    for i in range(num_image):\n",
    "        for j in range(K):\n",
    "            if cluster[i] == j:\n",
    "                sum_cluster[:,j] += list_image[:, i]\n",
    "                count_cluster[j] +=1\n",
    "    # Updated centroids\n",
    "    centroid = sum_cluster / count_cluster\n",
    "    sum_cluster.fill(0)\n",
    "    count_cluster.fill(0)"
   ]
  },
  {
   "cell_type": "code",
   "execution_count": 17,
   "metadata": {},
   "outputs": [
    {
     "data": {
      "image/png": "[encoded data removed]",
      "text/plain": [
       "<Figure size 432x288 with 1 Axes>"
      ]
     },
     "metadata": {
      "needs_background": "light"
     },
     "output_type": "display_data"
    },
    {
     "data": {
      "image/png": "[encoded data removed]",
      "text/plain": [
       "<Figure size 432x288 with 1 Axes>"
      ]
     },
     "metadata": {
      "needs_background": "light"
     },
     "output_type": "display_data"
    },
    {
     "data": {
      "image/png": "[encoded data removed]",
      "text/plain": [
       "<Figure size 432x288 with 10 Axes>"
      ]
     },
     "metadata": {
      "needs_background": "light"
     },
     "output_type": "display_data"
    }
   ],
   "source": [
    "# Visualize the cost function\n",
    "plt.title(\"Cost function\")\n",
    "plt.plot(total_cost)\n",
    "plt.show()\n",
    "\n",
    "# Visualize the accuracy\n",
    "plt.title(\"Accuracy\")\n",
    "plt.plot(accuracy)\n",
    "plt.show()\n",
    "\n",
    "# Visualize the centroid image\n",
    "\n",
    "for i in range(K):\n",
    "\n",
    "    label       = list(range(K))\n",
    "    im_vector   = centroid[:, i]\n",
    "    im_matrix   = im_vector.reshape((size_row, size_col))\n",
    "\n",
    "    plt.subplot(K, K, i+1)\n",
    "    plt.imshow(im_matrix, cmap='Greys', interpolation='None')\n",
    "\n",
    "    frame   = plt.gca()\n",
    "    frame.axes.get_xaxis().set_visible(False)\n",
    "    frame.axes.get_yaxis().set_visible(False)\n",
    "\n",
    "plt.show()"
   ]
  },
  {
   "cell_type": "code",
   "execution_count": 20,
   "metadata": {},
   "outputs": [
    {
     "name": "stdout",
     "output_type": "stream",
     "text": [
      "Iteration : 0\n",
      "Iteration : 1\n",
      "Iteration : 2\n",
      "Iteration : 3\n",
      "Iteration : 4\n",
      "Iteration : 5\n",
      "Iteration : 6\n",
      "Iteration : 7\n",
      "Iteration : 8\n",
      "Iteration : 9\n"
     ]
    }
   ],
   "source": [
    "#\n",
    "# K-Means clustering\n",
    "#\n",
    "\n",
    "# For K=15\n",
    "K=15\n",
    "# Generate K centroids randomly.\n",
    "centroid = np.random.rand(size_row * size_col, K)\n",
    "cluster = np.empty(num_image, dtype=int)\n",
    "\n",
    "# centroid_previous = np.zeros((size_row * size_col, K))\n",
    "sum_cluster = np.zeros((size_row * size_col, K))\n",
    "count_cluster = np.zeros(K)\n",
    "centroid_previous = np.zeros((size_row * size_col, K))\n",
    "\n",
    "# Clusterization\n",
    "iteration = 0\n",
    "total_cost = []\n",
    "accuracy = []\n",
    "# while not (np.array_equal(centroid_previous, centroid)):\n",
    "for iteration in range(10):\n",
    "    print(\"Iteration : %d\" % iteration)\n",
    "    cost = 0\n",
    "    list_cost = []\n",
    "    centroid_previous = centroid.copy()\n",
    "    for i in range(num_image):\n",
    "        list_distance = np.zeros(K)\n",
    "        for j in range(K):\n",
    "            list_distance[j] = distance(list_image[:,i], centroid[:,j])\n",
    "        cluster[i] = list_distance.argmin()\n",
    "        cost += list_distance.min()\n",
    "    list_cost.append(cost)\n",
    "    total_cost.append(np.sum(list_cost))\n",
    "    #accuracy.append(/num_image)\n",
    "    \n",
    "    # Accuracy\n",
    "    cluster_label = np.zeros((K, 10))\n",
    "    for i in range(num_image):\n",
    "        for j in range(K):\n",
    "            if cluster[i] == j:\n",
    "                cluster_label[j, list_label[i]] += 1\n",
    "    sum_accuracy = 0\n",
    "    for i in range(K):\n",
    "        sum_accuracy += np.max(cluster_label[i,:])\n",
    "    accuracy.append(sum_accuracy / num_image)\n",
    "    \n",
    "    # Update centroids               \n",
    "    for i in range(num_image):\n",
    "        for j in range(K):\n",
    "            if cluster[i] == j:\n",
    "                sum_cluster[:,j] += list_image[:, i]\n",
    "                count_cluster[j] +=1\n",
    "    # Updated centroids\n",
    "    centroid = sum_cluster / count_cluster\n",
    "    sum_cluster.fill(0)\n",
    "    count_cluster.fill(0)"
   ]
  },
  {
   "cell_type": "code",
   "execution_count": 21,
   "metadata": {},
   "outputs": [
    {
     "data": {
      "image/png": "[encoded data removed]",
      "text/plain": [
       "<Figure size 432x288 with 1 Axes>"
      ]
     },
     "metadata": {
      "needs_background": "light"
     },
     "output_type": "display_data"
    },
    {
     "data": {
      "image/png": "[encoded data removed]",
      "text/plain": [
       "<Figure size 432x288 with 1 Axes>"
      ]
     },
     "metadata": {
      "needs_background": "light"
     },
     "output_type": "display_data"
    },
    {
     "data": {
      "image/png": "[encoded data removed]",
      "text/plain": [
       "<Figure size 432x288 with 15 Axes>"
      ]
     },
     "metadata": {
      "needs_background": "light"
     },
     "output_type": "display_data"
    }
   ],
   "source": [
    "# Visualize the cost function\n",
    "plt.title(\"Cost function\")\n",
    "plt.plot(total_cost)\n",
    "plt.show()\n",
    "\n",
    "# Visualize the accuracy\n",
    "plt.title(\"Accuracy\")\n",
    "plt.plot(accuracy)\n",
    "plt.show()\n",
    "\n",
    "# Visualize the centroid image\n",
    "\n",
    "for i in range(K):\n",
    "\n",
    "    label       = list(range(K))\n",
    "    im_vector   = centroid[:, i]\n",
    "    im_matrix   = im_vector.reshape((size_row, size_col))\n",
    "\n",
    "    plt.subplot(K, K, i+1)\n",
    "    plt.imshow(im_matrix, cmap='Greys', interpolation='None')\n",
    "\n",
    "    frame   = plt.gca()\n",
    "    frame.axes.get_xaxis().set_visible(False)\n",
    "    frame.axes.get_yaxis().set_visible(False)\n",
    "\n",
    "plt.show()"
   ]
  },
  {
   "cell_type": "code",
   "execution_count": 25,
   "metadata": {},
   "outputs": [
    {
     "name": "stdout",
     "output_type": "stream",
     "text": [
      "Iteration : 0\n"
     ]
    },
    {
     "name": "stderr",
     "output_type": "stream",
     "text": [
      "/home/nam/anaconda3/lib/python3.7/site-packages/ipykernel_launcher.py:54: RuntimeWarning: divide by zero encountered in true_divide\n",
      "/home/nam/anaconda3/lib/python3.7/site-packages/ipykernel_launcher.py:54: RuntimeWarning: invalid value encountered in true_divide\n"
     ]
    },
    {
     "name": "stdout",
     "output_type": "stream",
     "text": [
      "Iteration : 1\n",
      "Iteration : 2\n",
      "Iteration : 3\n",
      "Iteration : 4\n",
      "Iteration : 5\n",
      "Iteration : 6\n",
      "Iteration : 7\n",
      "Iteration : 8\n",
      "Iteration : 9\n"
     ]
    }
   ],
   "source": [
    "#\n",
    "# K-Means clustering\n",
    "#\n",
    "\n",
    "# For K=20\n",
    "K=20\n",
    "# Generate K centroids randomly.\n",
    "centroid = np.random.rand(size_row * size_col, K)\n",
    "cluster = np.empty(num_image, dtype=int)\n",
    "\n",
    "# centroid_previous = np.zeros((size_row * size_col, K))\n",
    "sum_cluster = np.zeros((size_row * size_col, K))\n",
    "count_cluster = np.zeros(K)\n",
    "centroid_previous = np.zeros((size_row * size_col, K))\n",
    "\n",
    "# Clusterization\n",
    "iteration = 0\n",
    "total_cost = []\n",
    "accuracy = []\n",
    "# while not (np.array_equal(centroid_previous, centroid)):\n",
    "for iteration in range(10):\n",
    "    print(\"Iteration : %d\" % iteration)\n",
    "    cost = 0\n",
    "    list_cost = []\n",
    "    centroid_previous = centroid.copy()\n",
    "    for i in range(num_image):\n",
    "        list_distance = np.zeros(K)\n",
    "        for j in range(K):\n",
    "            list_distance[j] = distance(list_image[:,i], centroid[:,j])\n",
    "        cluster[i] = list_distance.argmin()\n",
    "        cost += list_distance.min()\n",
    "    list_cost.append(cost)\n",
    "    total_cost.append(np.sum(list_cost))\n",
    "    #accuracy.append(/num_image)\n",
    "    \n",
    "    # Accuracy\n",
    "    cluster_label = np.zeros((K, 10))\n",
    "    for i in range(num_image):\n",
    "        for j in range(K):\n",
    "            if cluster[i] == j:\n",
    "                cluster_label[j, list_label[i]] += 1\n",
    "    sum_accuracy = 0\n",
    "    for i in range(K):\n",
    "        sum_accuracy += np.max(cluster_label[i,:])\n",
    "    accuracy.append(sum_accuracy / num_image)\n",
    "    \n",
    "    # Update centroids               \n",
    "    for i in range(num_image):\n",
    "        for j in range(K):\n",
    "            if cluster[i] == j:\n",
    "                sum_cluster[:,j] += list_image[:, i]\n",
    "                count_cluster[j] +=1\n",
    "    # Updated centroids\n",
    "    centroid = sum_cluster / count_cluster\n",
    "    sum_cluster.fill(0)\n",
    "    count_cluster.fill(0)"
   ]
  },
  {
   "cell_type": "code",
   "execution_count": 27,
   "metadata": {},
   "outputs": [
    {
     "data": {
      "image/png": "[encoded data removed]",
      "text/plain": [
       "<Figure size 432x288 with 1 Axes>"
      ]
     },
     "metadata": {
      "needs_background": "light"
     },
     "output_type": "display_data"
    },
    {
     "data": {
      "image/png": "[encoded data removed]",
      "text/plain": [
       "<Figure size 432x288 with 1 Axes>"
      ]
     },
     "metadata": {
      "needs_background": "light"
     },
     "output_type": "display_data"
    },
    {
     "data": {
      "image/png": "[encoded data removed]",
      "text/plain": [
       "<Figure size 432x288 with 20 Axes>"
      ]
     },
     "metadata": {
      "needs_background": "light"
     },
     "output_type": "display_data"
    }
   ],
   "source": [
    "# Visualize the cost function\n",
    "plt.title(\"Cost function\")\n",
    "plt.plot(total_cost)\n",
    "plt.show()\n",
    "\n",
    "# Visualize the accuracy\n",
    "plt.title(\"Accuracy\")\n",
    "plt.plot(accuracy)\n",
    "plt.show()\n",
    "\n",
    "# Visualize the centroid image\n",
    "\n",
    "for i in range(K):\n",
    "\n",
    "    label       = list(range(K))\n",
    "    im_vector   = centroid[:, i]\n",
    "    im_matrix   = im_vector.reshape((size_row, size_col))\n",
    "\n",
    "    plt.subplot(K, K, i+1)\n",
    "    plt.imshow(im_matrix, cmap='Greys', interpolation='None')\n",
    "\n",
    "    frame   = plt.gca()\n",
    "    frame.axes.get_xaxis().set_visible(False)\n",
    "    frame.axes.get_yaxis().set_visible(False)\n",
    "\n",
    "plt.show()"
   ]
  }
 ],
 "metadata": {
  "kernelspec": {
   "display_name": "Python 3",
   "language": "python",
   "name": "python3"
  },
  "language_info": {
   "codemirror_mode": {
    "name": "ipython",
    "version": 3
   },
   "file_extension": ".py",
   "mimetype": "text/x-python",
   "name": "python",
   "nbconvert_exporter": "python",
   "pygments_lexer": "ipython3",
   "version": "3.7.1"
  }
 },
 "nbformat": 4,
 "nbformat_minor": 2
}
