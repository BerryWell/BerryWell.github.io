{
 "cells": [
  {
   "cell_type": "markdown",
   "metadata": {},
   "source": [
    "20132915 Nam, Geun Woo"
   ]
  },
  {
   "cell_type": "markdown",
   "metadata": {},
   "source": [
    "# Assignment09\n",
    "\n",
    "Build a binary classifier to classify digit 0 against all the other digits at MNIST dataset.\n",
    "\n",
    "Let $x = (x_1, x_2, ... , x_m)$ be a vector representing an image in the dataset.\n",
    "\n",
    "The prediction function $f_w(x)$ is defined by the linear combination of data (1, x) and the model parameter $w:\n",
    "f_w(x) = w_0 * 1 + w_1 * x_1 + w_2 * x_2 + ... + w_m * x_m$\n",
    "where $w = (w_0, w_1, ... , w_m)$\n",
    "\n",
    "The prediction function $f_w(x)$ should have the following values:\n",
    "$f_w(x) = +1$ if $label(x) = 0$\n",
    "$f_w(x) = -1$ if $label(x)$ is not $0$\n",
    "\n",
    "The optimal model parameter w is obtained by minimizing the following objective function:\n",
    "$\\sum_i ( f_w(x^{(i)} - y^{(i)} ))^2$\n",
    "\n",
    "1. Compute an optimal model parameter using the training dataset\n",
    "2. Compute (1) True Positive, (2) False Positive, (3) True Negative, (4) False Negative based on the computed optimal model parameter using (1) training dataset and (2) testing dataset."
   ]
  },
  {
   "cell_type": "code",
   "execution_count": 1,
   "metadata": {},
   "outputs": [],
   "source": [
    "import numpy as np\n",
    "import pandas as pd\n",
    "import matplotlib.pyplot as plt"
   ]
  },
  {
   "cell_type": "code",
   "execution_count": 2,
   "metadata": {},
   "outputs": [],
   "source": [
    "#\n",
    "# normalize the values of the input data to be [0, 1]\n",
    "#\n",
    "def normalize(data):\n",
    "\n",
    "    data_normalized = (data - min(data)) / (max(data) - min(data))\n",
    "\n",
    "    return(data_normalized)"
   ]
  },
  {
   "cell_type": "code",
   "execution_count": 121,
   "metadata": {},
   "outputs": [],
   "source": [
    "def distance_L2(a, b):\n",
    "    distance = (a-b)**2\n",
    "    return distance"
   ]
  },
  {
   "cell_type": "code",
   "execution_count": 3,
   "metadata": {},
   "outputs": [],
   "source": [
    "# Import MNIST dataset\n",
    "# mnist_train.csv, mnist_test.csv\n",
    "\n",
    "training_file_data = \"mnist_train.csv\"\n",
    "handle_file = open(training_file_data, \"r\")\n",
    "training_data = handle_file.readlines()\n",
    "handle_file.close()\n",
    "\n",
    "test_file_data = \"mnist_test.csv\"\n",
    "handle_file = open(test_file_data, \"r\")\n",
    "test_data = handle_file.readlines()\n",
    "handle_file.close()\n",
    "\n",
    "size_row = 28\n",
    "size_col = 28\n",
    "training_data_num = len(training_data)\n",
    "test_data_num = len(test_data)"
   ]
  },
  {
   "cell_type": "code",
   "execution_count": 50,
   "metadata": {},
   "outputs": [],
   "source": [
    "#\n",
    "# make a matrix each column of which represents an images in a vector form \n",
    "#\n",
    "list_image_training  = np.empty((size_row * size_col+1, training_data_num),\\\n",
    "                                dtype=float)\n",
    "list_label_training  = np.empty(training_data_num, dtype=int)\n",
    "\n",
    "for count, line in enumerate(training_data):\n",
    "    \n",
    "    line_data   = line.split(',')\n",
    "    label       = line_data[0]\n",
    "    im_vector   = np.asfarray(line_data[1:])\n",
    "    im_vector   = normalize(im_vector)\n",
    "\n",
    "    # list_label[] : label\n",
    "    list_label_training[count]       = label\n",
    "    # list_image, append 1 to the front of the array\n",
    "    list_image_training[:, count]    = np.insert(im_vector, 0, 1)\n",
    "    \n",
    "\n",
    "list_image_test  = np.empty((size_row * size_col+1, test_data_num), dtype=float)\n",
    "list_label_test  = np.empty(test_data_num, dtype=int)\n",
    "\n",
    "for count, line in enumerate(test_data):\n",
    "    \n",
    "    line_data   = line.split(',')\n",
    "    label       = line_data[0]\n",
    "    im_vector   = np.asfarray(line_data[1:])\n",
    "    im_vector   = normalize(im_vector)\n",
    "\n",
    "    # list_label[] : label\n",
    "    list_label_test[count]       = label\n",
    "    # list_image, append 1 to the front of the array\n",
    "    list_image_test[:, count]    = np.insert(im_vector, 0, 1)\n"
   ]
  },
  {
   "cell_type": "markdown",
   "metadata": {},
   "source": [
    "$xw = y$  \n",
    "$x$ = image  \n",
    "$w$ = model parameter  \n",
    "$y$ = predicted label  \n",
    "$x^{(i)}$ = actual label  \n",
    "$y^{(i)}$ = predicted label\n",
    "1. Compute the above prediction fuction.\n",
    "2. Label by the smallest distance."
   ]
  },
  {
   "cell_type": "code",
   "execution_count": null,
   "metadata": {},
   "outputs": [],
   "source": [
    "# Make a prediction function\n",
    "# xw = y\n",
    "actual_label_training = np.where((list_label_training==0), +1, -1).\\\n",
    "    reshape((training_data_num,1))\n",
    "x_training = np.copy(list_image_training).transpose()\n",
    "w = np.matmul(np.linalg.pinv(x_training), actual_label_training)"
   ]
  },
  {
   "cell_type": "code",
   "execution_count": 189,
   "metadata": {},
   "outputs": [],
   "source": [
    "# Calculating predicted labels\n",
    "\n",
    "predicted_label_training = np.matmul(x_training, w)\n",
    "for i in range(0, training_data_num):\n",
    "    distance_zero = distance_L2(predicted_label_training[i,0], +1)\n",
    "    distance_non_zero = distance_L2(predicted_label_training[i,0], -1)\n",
    "    if distance_zero >= distance_non_zero:\n",
    "        predicted_label_training[i,0] = -1\n",
    "    else:\n",
    "        predicted_label_training[i,0] = +1"
   ]
  },
  {
   "cell_type": "code",
   "execution_count": 200,
   "metadata": {},
   "outputs": [],
   "source": [
    "# Calculate and show TP, FP, TN, FN\n",
    "# TP: actual: positive && predicted: positive\n",
    "# FN: actual: positive && predicted: negative\n",
    "# FP: actual: negative && predicted: positive\n",
    "# TN: actual: negative && predicted: negative\n",
    "def calculate_confusion_matrix(actual_label, predicted_label, label_num):\n",
    "    TP = np.zeros((label_num))\n",
    "    FP = np.zeros((label_num))\n",
    "    TN = np.zeros((label_num))\n",
    "    FN = np.zeros((label_num))\n",
    "    for i in range(0, label_num):\n",
    "        if(actual_label[i,0] == +1 and predicted_label[i,0] == +1):\n",
    "            TP[i] = 1\n",
    "        elif(actual_label[i,0] == +1 and predicted_label[i,0] == -1):\n",
    "            FN[i] = 1\n",
    "        elif(actual_label[i,0] == -1 and predicted_label[i,0] == +1):\n",
    "            FP[i] = 1\n",
    "        elif(actual_label[i,0] == -1 and predicted_label[i,0] == -1):\n",
    "            TN[i] = 1\n",
    "    # precision\n",
    "    # recall\n",
    "    # F1 score\n",
    "    # ...\n",
    "    print(\"TP: %d\" % np.count_nonzero(TP==1))\n",
    "    print(\"FN: %d\" % np.count_nonzero(FN==1))\n",
    "    print(\"FP: %d\" % np.count_nonzero(FP==1))\n",
    "    print(\"TN: %d\" % np.count_nonzero(TN==1))\n",
    "    print(\"Sum: %d \" % np.sum(TP+FN+FP+TN))"
   ]
  },
  {
   "cell_type": "code",
   "execution_count": 223,
   "metadata": {},
   "outputs": [
    {
     "name": "stdout",
     "output_type": "stream",
     "text": [
      "Training data\n",
      "TP: 5167\n",
      "FN: 756\n",
      "FP: 179\n",
      "TN: 53898\n",
      "Sum: 60000 \n"
     ]
    }
   ],
   "source": [
    "print(\"Training data\")\n",
    "calculate_confusion_matrix(actual_label_training, predicted_label_training, training_data_num)"
   ]
  },
  {
   "cell_type": "code",
   "execution_count": 218,
   "metadata": {},
   "outputs": [],
   "source": [
    "# Make a prediction function\n",
    "# xw = y\n",
    "actual_label_test = np.where((list_label_test==0), +1, -1).reshape((test_data_num,1))\n",
    "x_test = np.copy(list_image_test).transpose()\n",
    "#w = np.matmul(np.linalg.pinv(x_test), actual_label_test)"
   ]
  },
  {
   "cell_type": "code",
   "execution_count": 219,
   "metadata": {},
   "outputs": [],
   "source": [
    "# Calculating predicted labels\n",
    "\n",
    "predicted_label_test = np.matmul(x_test, w)\n",
    "for i in range(0, test_data_num):\n",
    "    distance_zero = distance_L2(predicted_label_test[i,0], +1)\n",
    "    distance_non_zero = distance_L2(predicted_label_test[i,0], -1)\n",
    "    if distance_zero >= distance_non_zero:\n",
    "        predicted_label_test[i,0] = -1\n",
    "    else:\n",
    "        predicted_label_test[i,0] = +1"
   ]
  },
  {
   "cell_type": "code",
   "execution_count": 224,
   "metadata": {},
   "outputs": [
    {
     "name": "stdout",
     "output_type": "stream",
     "text": [
      "Test data\n",
      "TP: 866\n",
      "FN: 114\n",
      "FP: 43\n",
      "TN: 8977\n",
      "Sum: 10000 \n"
     ]
    }
   ],
   "source": [
    "print(\"Test data\")\n",
    "calculate_confusion_matrix(actual_label_test, predicted_label_test, test_data_num)"
   ]
  }
 ],
 "metadata": {
  "kernelspec": {
   "display_name": "Python 3",
   "language": "python",
   "name": "python3"
  },
  "language_info": {
   "codemirror_mode": {
    "name": "ipython",
    "version": 3
   },
   "file_extension": ".py",
   "mimetype": "text/x-python",
   "name": "python",
   "nbconvert_exporter": "python",
   "pygments_lexer": "ipython3",
   "version": "3.7.1"
  }
 },
 "nbformat": 4,
 "nbformat_minor": 2
}
