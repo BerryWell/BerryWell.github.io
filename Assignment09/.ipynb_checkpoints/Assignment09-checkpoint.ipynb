{
 "cells": [
  {
   "cell_type": "markdown",
   "metadata": {},
   "source": [
    "IMRAD\n",
    "- Introduction\n",
    "- Methods\n",
    "- Results\n",
    "- Discussion/Conclusion"
   ]
  },
  {
   "cell_type": "markdown",
   "metadata": {},
   "source": [
    "20132915 Nam, Geun Woo"
   ]
  },
  {
   "cell_type": "markdown",
   "metadata": {},
   "source": [
    "# Assignment09\n",
    "\n",
    "Build a binary classifier to classify digit 0 against all the other digits at MNIST dataset.\n",
    "\n",
    "Let $x = (x_1, x_2, ... , x_m)$ be a vector representing an image in the dataset.\n",
    "\n",
    "The prediction function $f_w(x)$ is defined by the linear combination of data (1, x) and the model parameter $w:\n",
    "f_w(x) = w_0 * 1 + w_1 * x_1 + w_2 * x_2 + ... + w_m * x_m$\n",
    "where $Rw = (w_0, w_1, ... , w_m)$\n",
    "\n",
    "The prediction function $f_w(x)$ should have the following values:\n",
    "$f_w(x) = +1$ if label(x) = 0\n",
    "$f_w(x) = -1$ if label(x) is not 0\n",
    "\n",
    "The optimal model parameter w is obtained by minimizing the following objective function:\n",
    "$\\sum_i ( f_w(x^(i) - y^(i) )^2$\n",
    "\n",
    "1. Compute an optimal model parameter using the training dataset\n",
    "2. Compute (1) True Positive, (2) False Positive, (3) True Negative, (4) False Negative based on the computed optimal model parameter using (1) training dataset and (2) testing dataset."
   ]
  },
  {
   "cell_type": "code",
   "execution_count": 1,
   "metadata": {},
   "outputs": [],
   "source": [
    "import numpy as np\n",
    "import pandas as pd\n",
    "import matplotlib.pyplot as plt"
   ]
  },
  {
   "cell_type": "code",
   "execution_count": 2,
   "metadata": {},
   "outputs": [],
   "source": [
    "# Import MNIST dataset\n",
    "\n",
    "# mnist_train.csv, mnist_test.csv\n"
   ]
  }
 ],
 "metadata": {
  "kernelspec": {
   "display_name": "Python 3",
   "language": "python",
   "name": "python3"
  },
  "language_info": {
   "codemirror_mode": {
    "name": "ipython",
    "version": 3
   },
   "file_extension": ".py",
   "mimetype": "text/x-python",
   "name": "python",
   "nbconvert_exporter": "python",
   "pygments_lexer": "ipython3",
   "version": "3.7.1"
  }
 },
 "nbformat": 4,
 "nbformat_minor": 2
}
