{
 "cells": [
  {
   "cell_type": "markdown",
   "metadata": {},
   "source": [
    "20132915 Nam, Geun Woo"
   ]
  },
  {
   "cell_type": "markdown",
   "metadata": {},
   "source": [
    "# Assignment09\n",
    "\n",
    "Build a binary classifier to classify digit 0 against all the other digits at MNIST dataset.\n",
    "\n",
    "Let $x = (x_1, x_2, ... , x_m)$ be a vector representing an image in the dataset.\n",
    "\n",
    "The prediction function $f_w(x)$ is defined by the linear combination of data (1, x) and the model parameter $w:\n",
    "f_w(x) = w_0 * 1 + w_1 * x_1 + w_2 * x_2 + ... + w_m * x_m$\n",
    "where $w = (w_0, w_1, ... , w_m)$\n",
    "\n",
    "The prediction function $f_w(x)$ should have the following values:\n",
    "$f_w(x) = +1$ if $label(x) = 0$\n",
    "$f_w(x) = -1$ if $label(x)$ is not $0$\n",
    "\n",
    "The optimal model parameter w is obtained by minimizing the following objective function:\n",
    "$\\sum_i ( f_w(x^{(i)} - y^{(i)} ))^2$\n",
    "\n",
    "1. Compute an optimal model parameter using the training dataset\n",
    "2. Compute (1) True Positive, (2) False Positive, (3) True Negative, (4) False Negative based on the computed optimal model parameter using (1) training dataset and (2) testing dataset."
   ]
  },
  {
   "cell_type": "code",
   "execution_count": 1,
   "metadata": {},
   "outputs": [],
   "source": [
    "import numpy as np\n",
    "import pandas as pd\n",
    "import matplotlib.pyplot as plt"
   ]
  },
  {
   "cell_type": "code",
   "execution_count": 2,
   "metadata": {},
   "outputs": [],
   "source": [
    "#\n",
    "# normalize the values of the input data to be [0, 1]\n",
    "#\n",
    "def normalize(data):\n",
    "\n",
    "    data_normalized = (data - min(data)) / (max(data) - min(data))\n",
    "    \n",
    "    return(data_normalized)"
   ]
  },
  {
   "cell_type": "code",
   "execution_count": 3,
   "metadata": {},
   "outputs": [],
   "source": [
    "def distance_L2(a, b):\n",
    "    distance = (a-b)**2\n",
    "    return distance"
   ]
  },
  {
   "cell_type": "code",
   "execution_count": 4,
   "metadata": {},
   "outputs": [],
   "source": [
    "# Import MNIST dataset\n",
    "# mnist_train.csv, mnist_test.csv\n",
    "\n",
    "training_file_data = \"mnist_train.csv\"\n",
    "handle_file = open(training_file_data, \"r\")\n",
    "training_data = handle_file.readlines()\n",
    "handle_file.close()\n",
    "\n",
    "test_file_data = \"mnist_test.csv\"\n",
    "handle_file = open(test_file_data, \"r\")\n",
    "test_data = handle_file.readlines()\n",
    "handle_file.close()\n",
    "\n",
    "size_row = 28\n",
    "size_col = 28\n",
    "training_data_num = len(training_data)\n",
    "test_data_num = len(test_data)"
   ]
  },
  {
   "cell_type": "code",
   "execution_count": 5,
   "metadata": {},
   "outputs": [],
   "source": [
    "#\n",
    "# make a matrix each column of which represents an images in a vector form \n",
    "#\n",
    "list_image_training  = np.empty((size_row * size_col+1, training_data_num),\\\n",
    "                                dtype=float)\n",
    "list_label_training  = np.empty(training_data_num, dtype=int)\n",
    "\n",
    "for count, line in enumerate(training_data):\n",
    "    \n",
    "    line_data   = line.split(',')\n",
    "    label       = line_data[0]\n",
    "    im_vector   = np.asfarray(line_data[1:])\n",
    "    im_vector   = normalize(im_vector)\n",
    "\n",
    "    # list_label[] : label\n",
    "    list_label_training[count]       = label\n",
    "    # list_image, append 1 to the front of the array\n",
    "    list_image_training[:, count]    = np.insert(im_vector, 0, 1)\n",
    "    \n",
    "\n",
    "list_image_test  = np.empty((size_row * size_col+1, test_data_num), dtype=float)\n",
    "list_label_test  = np.empty(test_data_num, dtype=int)\n",
    "\n",
    "for count, line in enumerate(test_data):\n",
    "    \n",
    "    line_data   = line.split(',')\n",
    "    label       = line_data[0]\n",
    "    im_vector   = np.asfarray(line_data[1:])\n",
    "    im_vector   = normalize(im_vector)\n",
    "\n",
    "    # list_label[] : label\n",
    "    list_label_test[count]       = label\n",
    "    # list_image, append 1 to the front of the array\n",
    "    list_image_test[:, count]    = np.insert(im_vector, 0, 1)\n"
   ]
  },
  {
   "cell_type": "markdown",
   "metadata": {},
   "source": [
    "$xw = y$  \n",
    "$x$ = image  \n",
    "$w$ = model parameter  \n",
    "$y$ = predicted label  \n",
    "$x^{(i)}$ = actual label  \n",
    "$y^{(i)}$ = predicted label\n",
    "1. Compute the above prediction fuction.\n",
    "2. Label by the smallest distance."
   ]
  },
  {
   "cell_type": "code",
   "execution_count": 6,
   "metadata": {},
   "outputs": [],
   "source": [
    "# Make a prediction function\n",
    "# xw = y\n",
    "actual_label_training = np.where((list_label_training==0), +1, -1).\\\n",
    "    reshape((training_data_num,1))\n",
    "x_training = np.copy(list_image_training).transpose()\n",
    "w = np.matmul(np.linalg.pinv(x_training), actual_label_training)"
   ]
  },
  {
   "cell_type": "code",
   "execution_count": 7,
   "metadata": {},
   "outputs": [],
   "source": [
    "# Calculating predicted labels\n",
    "\n",
    "predicted_label_training = np.matmul(x_training, w)\n",
    "for i in range(0, training_data_num):\n",
    "    distance_zero = distance_L2(predicted_label_training[i,0], +1)\n",
    "    distance_non_zero = distance_L2(predicted_label_training[i,0], -1)\n",
    "    if distance_zero >= distance_non_zero:\n",
    "        predicted_label_training[i,0] = -1\n",
    "    else:\n",
    "        predicted_label_training[i,0] = +1"
   ]
  },
  {
   "cell_type": "code",
   "execution_count": 8,
   "metadata": {},
   "outputs": [],
   "source": [
    "# Calculate and show TP, FP, TN, FN\n",
    "# TP: actual: positive && predicted: positive\n",
    "# FN: actual: positive && predicted: negative\n",
    "# FP: actual: negative && predicted: positive\n",
    "# TN: actual: negative && predicted: negative\n",
    "def calculate_confusion_matrix(actual_label, predicted_label, label_num):\n",
    "    TP_list = np.zeros((label_num))\n",
    "    FP_list = np.zeros((label_num))\n",
    "    TN_list = np.zeros((label_num))\n",
    "    FN_list = np.zeros((label_num))\n",
    "    for i in range(0, label_num):\n",
    "        if(actual_label[i,0] == +1 and predicted_label[i,0] == +1):\n",
    "            TP_list[i] = 1\n",
    "        elif(actual_label[i,0] == +1 and predicted_label[i,0] == -1):\n",
    "            FN_list[i] = 1\n",
    "        elif(actual_label[i,0] == -1 and predicted_label[i,0] == +1):\n",
    "            FP_list[i] = 1\n",
    "        elif(actual_label[i,0] == -1 and predicted_label[i,0] == -1):\n",
    "            TN_list[i] = 1\n",
    "    # precision: TP / (TP+FP)\n",
    "    # recall(sensitivity): TP / (TP+FN)\n",
    "    # accuracy: (TP + TN) / (P + N) = (TP + TN) / (TP+TN+FP+FN)\n",
    "    # F1 score: the harmonic mean of precision and sensitivity\n",
    "    # 2TP/ (2TP+FP+FN)\n",
    "    # ...\n",
    "    TP_count = np.count_nonzero(TP_list==1)\n",
    "    FP_count = np.count_nonzero(FN_list==1)\n",
    "    TN_count = np.count_nonzero(FP_list==1)\n",
    "    FN_count = np.count_nonzero(TN_list==1)\n",
    "    \n",
    "    assert( (TP_count+FN_count+FP_count+TN_count) == label_num )\n",
    "    \n",
    "    TP_rate = TP_count / label_num\n",
    "    FP_rate = FP_count / label_num\n",
    "    TN_rate = TN_count / label_num\n",
    "    FN_rate = FN_count / label_num\n",
    "    \n",
    "    precision = TP_count / (TP_count + FP_count)\n",
    "    recall = TP_count / (TP_count + FN_count)\n",
    "    accuracy = (TP_count + TN_count) / (TP_count + TN_count + FP_count + FN_count)\n",
    "    \n",
    "    print(\"TP: %d, %f\" % (TP_count, TP_rate))\n",
    "    print(\"FN: %d, %f\" % (FP_count, FP_rate))\n",
    "    print(\"FP: %d, %f\" % (TN_count, TN_rate))\n",
    "    print(\"TN: %d, %f\" % (FN_count, FN_rate))\n",
    "    print(\"Sum: %d  %f\" % ( (TP_count+FN_count+FP_count+TN_count),\\\n",
    "                           (TP_rate+FN_rate+FP_rate+TN_rate) ))\n",
    "    \n",
    "    print(\"Precision: %f\" % precision)\n",
    "    print(\"Recall: %f\" % recall)\n",
    "    print(\"Accuracy: %f\" % accuracy)\n",
    "    "
   ]
  },
  {
   "cell_type": "code",
   "execution_count": 9,
   "metadata": {},
   "outputs": [
    {
     "name": "stdout",
     "output_type": "stream",
     "text": [
      "Training data\n",
      "TP: 5167, 0.086117\n",
      "FN: 756, 0.012600\n",
      "FP: 179, 0.002983\n",
      "TN: 53898, 0.898300\n",
      "Sum: 60000  1.000000\n",
      "Precision: 0.872362\n",
      "Recall: 0.087480\n",
      "Accuracy: 0.089100\n"
     ]
    }
   ],
   "source": [
    "print(\"Training data\")\n",
    "calculate_confusion_matrix\\\n",
    "(actual_label_training, predicted_label_training, training_data_num)"
   ]
  },
  {
   "cell_type": "code",
   "execution_count": 10,
   "metadata": {},
   "outputs": [],
   "source": [
    "# Make a prediction function\n",
    "# xw = y\n",
    "actual_label_test = np.where((list_label_test==0), +1, -1).reshape((test_data_num,1))\n",
    "x_test = np.copy(list_image_test).transpose()\n",
    "#w = np.matmul(np.linalg.pinv(x_test), actual_label_test)"
   ]
  },
  {
   "cell_type": "code",
   "execution_count": 11,
   "metadata": {},
   "outputs": [],
   "source": [
    "# Calculating predicted labels\n",
    "\n",
    "predicted_label_test = np.matmul(x_test, w)\n",
    "for i in range(0, test_data_num):\n",
    "    distance_zero = distance_L2(predicted_label_test[i,0], +1)\n",
    "    distance_non_zero = distance_L2(predicted_label_test[i,0], -1)\n",
    "    if distance_zero >= distance_non_zero:\n",
    "        predicted_label_test[i,0] = -1\n",
    "    else:\n",
    "        predicted_label_test[i,0] = +1"
   ]
  },
  {
   "cell_type": "code",
   "execution_count": 12,
   "metadata": {},
   "outputs": [
    {
     "name": "stdout",
     "output_type": "stream",
     "text": [
      "Test data\n",
      "TP: 866, 0.086600\n",
      "FN: 114, 0.011400\n",
      "FP: 43, 0.004300\n",
      "TN: 8977, 0.897700\n",
      "Sum: 10000  1.000000\n",
      "Precision: 0.883673\n",
      "Recall: 0.087981\n",
      "Accuracy: 0.090900\n"
     ]
    }
   ],
   "source": [
    "print(\"Test data\")\n",
    "calculate_confusion_matrix\\\n",
    "(actual_label_test, predicted_label_test, test_data_num)"
   ]
  }
 ],
 "metadata": {
  "kernelspec": {
   "display_name": "Python 3",
   "language": "python",
   "name": "python3"
  },
  "language_info": {
   "codemirror_mode": {
    "name": "ipython",
    "version": 3
   },
   "file_extension": ".py",
   "mimetype": "text/x-python",
   "name": "python",
   "nbconvert_exporter": "python",
   "pygments_lexer": "ipython3",
   "version": "3.7.1"
  }
 },
 "nbformat": 4,
 "nbformat_minor": 2
}
