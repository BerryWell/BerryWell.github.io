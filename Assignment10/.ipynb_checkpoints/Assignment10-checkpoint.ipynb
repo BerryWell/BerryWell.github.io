{
 "cells": [
  {
   "cell_type": "markdown",
   "metadata": {},
   "source": [
    "20132915 Nam, Geun Woo"
   ]
  },
  {
   "cell_type": "markdown",
   "metadata": {},
   "source": [
    "# Assignment10\n",
    "\n",
    "Build a binary classifier for each digit against all the other digits at MNIST dataset.\n",
    "\n",
    "Let $x = (x_1, x_2, ... , x_m)$ be a vector representing an image in the dataset.\n",
    "\n",
    "The prediction function $f_d(x; w)$ is defined by the linear combination of data $(1, x)$ and the model parameter $w$ for each digit $d$ :\n",
    "$f_d(x; w) = w_0 * 1 + w_1 * x_1 + w_2 * x_2 + ... + w_m * x_m$\n",
    "where $w = (w_0, w_1, ... , w_m)$\n",
    "\n",
    "The prediction function $f_d(x; w)$ should have the following values:\n",
    "$f_d(x; w) = +1$ if $label(x) = d$\n",
    "$f_d(x; w) = -1$ if $label(x)$ is not $d$\n",
    "\n",
    "The optimal model parameter $w$ is obtained by minimizing the following objective function for each digit $d$ :\n",
    "$\\sum_i ( f_d(x^{(i)}; w) - y^{(i)} )^2$\n",
    "\n",
    "and the label of input $x$ is given by:\n",
    "\n",
    "$argmax_d f_d(x; w)$\n",
    "\n",
    "1. Compute an optimal model parameter using the training dataset for each classifier $f_d(x, w)$\n",
    "2. Compute (1) true positive rate, (2) error rate using (1) training dataset and (2) testing dataset."
   ]
  },
  {
   "cell_type": "code",
   "execution_count": 1,
   "metadata": {},
   "outputs": [],
   "source": [
    "import numpy as np\n",
    "import pandas as pd\n",
    "import matplotlib.pyplot as plt"
   ]
  },
  {
   "cell_type": "code",
   "execution_count": 2,
   "metadata": {},
   "outputs": [],
   "source": [
    "#\n",
    "# normalize the values of the input data to be [0, 1]\n",
    "#\n",
    "def normalize(data):\n",
    "\n",
    "    data_normalized = (data - min(data)) / (max(data) - min(data))\n",
    "    \n",
    "    return(data_normalized)"
   ]
  },
  {
   "cell_type": "code",
   "execution_count": 3,
   "metadata": {},
   "outputs": [],
   "source": [
    "def distance_L2(a, b):\n",
    "    distance = (a-b)**2\n",
    "    return distance"
   ]
  },
  {
   "cell_type": "code",
   "execution_count": 4,
   "metadata": {},
   "outputs": [],
   "source": [
    "# Import MNIST dataset\n",
    "# mnist_train.csv, mnist_test.csv\n",
    "\n",
    "training_file_data = \"mnist_train.csv\"\n",
    "handle_file = open(training_file_data, \"r\")\n",
    "training_data = handle_file.readlines()\n",
    "handle_file.close()\n",
    "\n",
    "test_file_data = \"mnist_test.csv\"\n",
    "handle_file = open(test_file_data, \"r\")\n",
    "test_data = handle_file.readlines()\n",
    "handle_file.close()\n",
    "\n",
    "size_row = 28\n",
    "size_col = 28\n",
    "training_data_num = len(training_data)\n",
    "test_data_num = len(test_data)"
   ]
  },
  {
   "cell_type": "code",
   "execution_count": 100,
   "metadata": {},
   "outputs": [],
   "source": [
    "#\n",
    "# make a matrix each column of which represents an images in a vector form \n",
    "#\n",
    "list_image_training  = np.empty((size_row * size_col+1, training_data_num),\\\n",
    "                                dtype=float)\n",
    "list_label_training  = np.empty(training_data_num, dtype=int)\n",
    "\n",
    "for count, line in enumerate(training_data):\n",
    "    \n",
    "    line_data   = line.split(',')\n",
    "    label       = line_data[0]\n",
    "    im_vector   = np.asfarray(line_data[1:])\n",
    "    im_vector   = normalize(im_vector)\n",
    "\n",
    "    # list_label[] : label\n",
    "    list_label_training[count]       = label\n",
    "    # list_image, append 1 to the front of the array\n",
    "    list_image_training[:, count]    = np.insert(im_vector, 0, 1)\n",
    "    \n",
    "\n",
    "list_image_test  = np.empty((size_row * size_col+1, test_data_num), dtype=float)\n",
    "list_label_test  = np.empty(test_data_num, dtype=int)\n",
    "\n",
    "for count, line in enumerate(test_data):\n",
    "    \n",
    "    line_data   = line.split(',')\n",
    "    label       = line_data[0]\n",
    "    im_vector   = np.asfarray(line_data[1:])\n",
    "    im_vector   = normalize(im_vector)\n",
    "\n",
    "    # list_label[] : label\n",
    "    list_label_test[count]       = label\n",
    "    # list_image, append 1 to the front of the array\n",
    "    list_image_test[:, count]    = np.insert(im_vector, 0, 1)\n"
   ]
  },
  {
   "cell_type": "markdown",
   "metadata": {},
   "source": [
    "$xw = y$  \n",
    "$x$ = image  \n",
    "$w_i$ = model parameter for classifying where an image is label $i$  \n",
    "$y$ = predicted label  \n",
    "$x^{(i)}$ = actual label  \n",
    "$y^{(i)}$ = predicted label\n",
    "1. Compute the above prediction fuction.\n",
    "2. Label by the smallest distance."
   ]
  },
  {
   "cell_type": "code",
   "execution_count": null,
   "metadata": {},
   "outputs": [],
   "source": [
    "# Make a prediction function\n",
    "# xw = y\n",
    "w = np.empty((1+size_row*size_col, 1, 10))\n",
    "for i in range(0,10):\n",
    "    actual_label_training = np.where((list_label_training==i), +1, -1).\\\n",
    "    reshape((training_data_num,1))\n",
    "    x_training = np.copy(list_image_training).transpose()\n",
    "    np.copyto(w[:,:,i], np.matmul(np.linalg.pinv(x_training), actual_label_training))"
   ]
  },
  {
   "cell_type": "code",
   "execution_count": null,
   "metadata": {},
   "outputs": [],
   "source": [
    "# Calculating predicted labels\n",
    "\n",
    "predicted_label_training = np.empty((training_data_num, 1))\n",
    "l = np.empty((10))\n",
    "for i in range(0, training_data_num):\n",
    "    for j in range(0,10):\n",
    "        l[j] = np.matmul(x_training[i,:], w[:,:,j])\n",
    "    predicted_label_training[i] = np.argmax(l)"
   ]
  },
  {
   "cell_type": "code",
   "execution_count": null,
   "metadata": {},
   "outputs": [],
   "source": [
    "# Calculate and show true positive rate, error rate\n",
    "def calculate_confusion_matrix(actual_label, predicted_label, label_num):\n",
    "    # confusion_matrix = np.zeros((10,10))\n",
    "    \n",
    "    TP_list = np.zeros((label_num, 1))\n",
    "    FP_list = np.zeros((label_num, 1))\n",
    "    TN_list = np.zeros((label_num, 1))\n",
    "    FN_list = np.zeros((label_num, 1))\n",
    "    \n",
    "    for i in range(0, label_num):\n",
    "        if(actual_label[i,0] == predicted_label[i,0]):\n",
    "            TP_list[i] = 1\n",
    "        else:\n",
    "            FP_list[i] = 1\n",
    "            \n",
    "    TP_num = np.count_nonzero(TP_list)\n",
    "    FP_num = np.count_nonzero(FP_list)\n",
    "    \n",
    "    assert( (TP_num + FP_num) == label_num )        \n",
    "    \n",
    "    true_positive_rate = TP_num / label_num\n",
    "    error_rate = FP_num / label_num\n",
    "        \n",
    "    print(\"TP: %f\" % TP_num)\n",
    "    print(\"FP: %f\" % FP_num)\n",
    "    print(\"True Positive rate: %f\" % true_positive_rate)\n",
    "    print(\"Error rate: %f\" % error_rate)\n",
    "    "
   ]
  },
  {
   "cell_type": "code",
   "execution_count": null,
   "metadata": {
    "scrolled": false
   },
   "outputs": [],
   "source": [
    "print(\"Training data\")\n",
    "calculate_confusion_matrix\\\n",
    "(list_label_training.reshape((training_data_num,1)),\\\n",
    " predicted_label_training, training_data_num)"
   ]
  },
  {
   "cell_type": "code",
   "execution_count": null,
   "metadata": {},
   "outputs": [],
   "source": [
    "# Make a prediction function\n",
    "# xw = y\n",
    "w = np.empty((1+size_row*size_col, 1, 10))\n",
    "for i in range(0,10):\n",
    "    actual_label_test = np.where((list_label_test==i), +1, -1).\\\n",
    "    reshape((test_data_num,1))\n",
    "    x_test = np.copy(list_image_test).transpose()\n",
    "    np.copyto(w[:,:,i], np.matmul(np.linalg.pinv(x_test), actual_label_test))"
   ]
  },
  {
   "cell_type": "code",
   "execution_count": null,
   "metadata": {},
   "outputs": [],
   "source": [
    "# Calculating predicted labels\n",
    "\n",
    "predicted_label_test = np.empty((test_data_num, 1))\n",
    "l = np.empty((10))\n",
    "for i in range(0, test_data_num):\n",
    "    for j in range(0, 10):\n",
    "        l[j] = np.matmul(x_test[i,:], w[:,:,j])\n",
    "    predicted_label_test[i] = np.argmax(l)"
   ]
  },
  {
   "cell_type": "code",
   "execution_count": null,
   "metadata": {
    "scrolled": true
   },
   "outputs": [],
   "source": [
    "print(\"Test data\")\n",
    "calculate_confusion_matrix\\\n",
    "(list_label_test.reshape((test_data_num,1)),\\\n",
    " predicted_label_test, test_data_num)"
   ]
  }
 ],
 "metadata": {
  "kernelspec": {
   "display_name": "Python 3",
   "language": "python",
   "name": "python3"
  },
  "language_info": {
   "codemirror_mode": {
    "name": "ipython",
    "version": 3
   },
   "file_extension": ".py",
   "mimetype": "text/x-python",
   "name": "python",
   "nbconvert_exporter": "python",
   "pygments_lexer": "ipython3",
   "version": "3.7.1"
  }
 },
 "nbformat": 4,
 "nbformat_minor": 2
}
