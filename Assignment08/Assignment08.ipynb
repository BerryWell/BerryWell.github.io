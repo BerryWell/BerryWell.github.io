{
 "cells": [
  {
   "cell_type": "markdown",
   "metadata": {},
   "source": [
    "[Polynomial fitting]\n",
    "\n",
    "Solve a least square problem to find an optimal polynomial curve for a given set of two dimensional points.\n",
    "\n",
    "Demonstrate the effect of the degree of polynomial in fitting a given set of points.\n",
    "\n",
    "- choose a polynomial curve and generate points along the curve with random noise\n",
    "\n",
    "- plot the generated noisy points along with its original polynomial without noise\n",
    "\n",
    "- plot the approximating polynomial curve obtained by solving a least square problem\n",
    "\n",
    "- plot the approximating polynomial curve with varying polynomial degree"
   ]
  },
  {
   "cell_type": "code",
   "execution_count": null,
   "metadata": {},
   "outputs": [],
   "source": []
  }
 ],
 "metadata": {
  "kernelspec": {
   "display_name": "Python 3",
   "language": "python",
   "name": "python3"
  },
  "language_info": {
   "codemirror_mode": {
    "name": "ipython",
    "version": 3
   },
   "file_extension": ".py",
   "mimetype": "text/x-python",
   "name": "python",
   "nbconvert_exporter": "python",
   "pygments_lexer": "ipython3",
   "version": "3.7.1"
  }
 },
 "nbformat": 4,
 "nbformat_minor": 2
}
