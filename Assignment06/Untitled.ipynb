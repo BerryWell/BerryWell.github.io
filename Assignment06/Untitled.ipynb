{
 "cells": [
  {
   "cell_type": "markdown",
   "metadata": {},
   "source": [
    "[K-means clustering on the spatial domain]\n",
    "\n",
    "Apply K-means algorithm to the regular grid of a spatial domain in two dimension.\n",
    "Let $\\{ (0, 0), (0, 1), ..., (0, n-1), (1, 0), (1, 1), ..., (1, n-1), ..., (m-1, 0), (m-1, 1), ..., (m-1, n-1) \\}$ be a regular grid.\n",
    "Use two different distances based on L1-norm and L2-norm.\n",
    "Display the clustering results using the color scheme based on the centroid."
   ]
  },
  {
   "cell_type": "code",
   "execution_count": null,
   "metadata": {},
   "outputs": [],
   "source": []
  }
 ],
 "metadata": {
  "kernelspec": {
   "display_name": "Python 3",
   "language": "python",
   "name": "python3"
  },
  "language_info": {
   "codemirror_mode": {
    "name": "ipython",
    "version": 3
   },
   "file_extension": ".py",
   "mimetype": "text/x-python",
   "name": "python",
   "nbconvert_exporter": "python",
   "pygments_lexer": "ipython3",
   "version": "3.7.1"
  }
 },
 "nbformat": 4,
 "nbformat_minor": 2
}
