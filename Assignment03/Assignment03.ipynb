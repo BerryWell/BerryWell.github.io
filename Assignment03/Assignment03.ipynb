{
 "cells": [
  {
   "cell_type": "markdown",
   "metadata": {},
   "source": [
    "20132915 Nam, Geunwoo"
   ]
  },
  {
   "cell_type": "markdown",
   "metadata": {},
   "source": [
    "[Visualize average images]\n",
    "\n",
    "1. Load MNIST training dataset.\n",
    "2. Compute the average images for each label (digit) based on L2-norm.\n",
    "3. Visualize the average images."
   ]
  },
  {
   "cell_type": "markdown",
   "metadata": {},
   "source": [
    "L2-norm formula\n",
    "\n",
    "$$ \\lvert\\rvert{x}\\lvert\\rvert = \\sqrt{x_1^2+x_2^2+...+x_n^2} = \\sqrt{x^Tx}$$\n",
    "\n",
    "We will calculate the L2-norm of each MNIST dataset by their label(0-9).\n",
    "First, we calculate the square of pixels in each image.\n",
    "\n",
    "$$ L_2\\_norm = \\begin{pmatrix} x_1 & x_2 & ... & x_{784} \\end{pmatrix} $$\n",
    "\n",
    "Second, we add the squared values by their label.\n",
    "\n",
    "$$ L_2\\_norm[i] = \\sum_{j=0}^{count} x_i\\, , where\\, i\\, denote\\, the\\, label. $$\n",
    "\n",
    "Then, we divide them by their count.\n",
    "\n",
    "$$ L_2\\_norm[i] = L_2\\_norm[i] / count[i] $$\n",
    "\n",
    "Finally, we will visualize the values using matplotlib."
   ]
  },
  {
   "cell_type": "code",
   "execution_count": 1,
   "metadata": {},
   "outputs": [],
   "source": [
    "import matplotlib.pyplot as plt\n",
    "import numpy as np"
   ]
  },
  {
   "cell_type": "code",
   "execution_count": 2,
   "metadata": {},
   "outputs": [],
   "source": [
    "file_data\t\t= \"mnist_train.csv\"\n",
    "handle_file\t= open(file_data, \"r\")\n",
    "data        \t\t= handle_file.readlines()\n",
    "handle_file.close()\n",
    "\n",
    "size_row\t= 28    # height of the image\n",
    "size_col  \t= 28    # width of the image\n",
    "# 28 * 28 = 784\n",
    "\n",
    "num_image\t= len(data)\n",
    "count       \t= 0     # count for the number of images"
   ]
  },
  {
   "cell_type": "code",
   "execution_count": 3,
   "metadata": {},
   "outputs": [],
   "source": [
    "#\n",
    "# normalize the values of the input data to be [0, 1]\n",
    "#\n",
    "def normalize(data):\n",
    "\n",
    "    data_normalized = (data - min(data)) / (max(data) - min(data))\n",
    "\n",
    "    return(data_normalized)"
   ]
  },
  {
   "cell_type": "code",
   "execution_count": 4,
   "metadata": {},
   "outputs": [],
   "source": [
    "#\n",
    "# make a matrix each column of which represents an images in a vector form \n",
    "#\n",
    "list_image  = np.empty((size_row * size_col, num_image), dtype=float)\n",
    "list_label  = np.empty(num_image, dtype=int)\n",
    "\n",
    "for line in data:\n",
    "    \n",
    "    line_data   = line.split(',')\n",
    "    label       = line_data[0]\n",
    "    im_vector   = np.asfarray(line_data[1:])\n",
    "    im_vector   = normalize(im_vector)\n",
    "\n",
    "    # list_label[] : label\n",
    "    list_label[count]       = label\n",
    "    # list_image\n",
    "    list_image[:, count]    = im_vector    \n",
    "\n",
    "    count += 1"
   ]
  },
  {
   "cell_type": "code",
   "execution_count": 5,
   "metadata": {},
   "outputs": [],
   "source": [
    "# Calculate L2 norm\n",
    "# L2_norm ndarray for 0 - 9 labels.\n",
    "# Use list_label(1*60000) and list_image(784*60000)\n",
    "L2_norm = np.zeros((size_row * size_col, 10), dtype=float)\n",
    "\n",
    "list_image_squared=list_image ** 2"
   ]
  },
  {
   "cell_type": "code",
   "execution_count": 6,
   "metadata": {},
   "outputs": [],
   "source": [
    "# Calculate L2 norm\n",
    "# L2_norm ndarray for 0 - 9 labels.\n",
    "# Use list_label(1*60000) and list_image(784*60000)\n",
    "L2_norm = np.zeros((size_row * size_col, 10), dtype=float)\n",
    "L2_norm_count = np.zeros(10)\n",
    "list_image_squared=list_image ** 2"
   ]
  },
  {
   "cell_type": "code",
   "execution_count": 7,
   "metadata": {
    "scrolled": true
   },
   "outputs": [],
   "source": [
    "i = 0\n",
    "while i < num_image:\n",
    "    if list_label[i] == 0:\n",
    "        L2_norm[:,0] += list_image_squared[:,i]\n",
    "        L2_norm_count[0] += 1\n",
    "    elif list_label[i] == 1:\n",
    "        L2_norm[:,1] += list_image_squared[:,i]\n",
    "        L2_norm_count[1] += 1\n",
    "    elif list_label[i] == 2:\n",
    "        L2_norm[:,2] += list_image_squared[:,i]\n",
    "        L2_norm_count[2] += 1\n",
    "    elif list_label[i] == 3:\n",
    "        L2_norm[:,3] += list_image_squared[:,i]\n",
    "        L2_norm_count[3] += 1\n",
    "    elif list_label[i] == 4:\n",
    "        L2_norm[:,4] += list_image_squared[:,i]\n",
    "        L2_norm_count[4] += 1\n",
    "    elif list_label[i] == 5:\n",
    "        L2_norm[:,5] += list_image_squared[:,i]\n",
    "        L2_norm_count[5] += 1\n",
    "    elif list_label[i] == 6:\n",
    "        L2_norm[:,6] += list_image_squared[:,i]\n",
    "        L2_norm_count[6] += 1\n",
    "    elif list_label[i] == 7:\n",
    "        L2_norm[:,7] += list_image_squared[:,i]\n",
    "        L2_norm_count[7] += 1\n",
    "    elif list_label[i] == 8:\n",
    "        L2_norm[:,8] += list_image_squared[:,i]\n",
    "        L2_norm_count[8] += 1\n",
    "    elif list_label[i] == 9:\n",
    "        L2_norm[:,9] += list_image_squared[:,i]\n",
    "        L2_norm_count[9] += 1\n",
    "    i += 1\n",
    "L2_norm = np.sqrt(L2_norm)\n",
    "L2_norm /= L2_norm_count"
   ]
  },
  {
   "cell_type": "code",
   "execution_count": 8,
   "metadata": {},
   "outputs": [
    {
     "data": {
      "image/png": "[encoded data removed]",
      "text/plain": [
       "<Figure size 432x288 with 10 Axes>"
      ]
     },
     "metadata": {
      "needs_background": "light"
     },
     "output_type": "display_data"
    }
   ],
   "source": [
    "# \n",
    "# plot L2 norm images by their labels\n",
    "# \n",
    "f1 = plt.figure(1)\n",
    "\n",
    "for i in range(10):\n",
    "\n",
    "    label       = i\n",
    "    im_vector   = L2_norm[:, i]\n",
    "    im_matrix   = L2_norm[:, i].reshape((size_row, size_col))\n",
    "    \n",
    "    plt.subplot(1, 10, i+1)\n",
    "    plt.title(label)\n",
    "        plt.imshow(im_matrix, cmap='Greys', interpolation='None')\n",
    "\n",
    "    frame   = plt.gca()\n",
    "    frame.axes.get_xaxis().set_visible(False)\n",
    "    frame.axes.get_yaxis().set_visible(False)\n",
    "\n",
    "plt.show()"
   ]
  }
 ],
 "metadata": {
  "kernelspec": {
   "display_name": "Python 3",
   "language": "python",
   "name": "python3"
  },
  "language_info": {
   "codemirror_mode": {
    "name": "ipython",
    "version": 3
   },
   "file_extension": ".py",
   "mimetype": "text/x-python",
   "name": "python",
   "nbconvert_exporter": "python",
   "pygments_lexer": "ipython3",
   "version": "3.7.1"
  }
 },
 "nbformat": 4,
 "nbformat_minor": 2
}
