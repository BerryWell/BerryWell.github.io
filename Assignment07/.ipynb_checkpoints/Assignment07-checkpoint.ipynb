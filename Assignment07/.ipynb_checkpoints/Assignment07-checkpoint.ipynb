{
 "cells": [
  {
   "cell_type": "markdown",
   "metadata": {},
   "source": [
    "[Apply K-means algorithm to both image value and its spatial domain]\n",
    "\n",
    "For a given input image (either gray or color), apply a K-means algorithm that is designed to take into consideration of both the image intensity and its spatial domain with varying parameters: the number of clusters and the trade-off between the intensity energy and the spatial energy.\n",
    "\n",
    "The objective function is given by:\n",
    "\n",
    "$\\sum_k \\sum_\\{ x \\in I(k) \\} [ \\| f(x) - m_k \\|^2 + a * \\| x - c_k \\|^2 ]$\n",
    "\n",
    "where I(k) denotes the index set of x that belongs to cluster k, m_k denotes the centroid of image intensity for cluster k, c_k denotes the centroid of spatial location for cluster k, and a determines the importance between the image intensity and the spatial relation.\n",
    "\n",
    "- Visualize the clustering results with varying k and a using the centroid color m_k for each cluster k.\n",
    "\n",
    "- Visualize the energy curve for both the intensity energy and the spatial energy."
   ]
  },
  {
   "cell_type": "code",
   "execution_count": null,
   "metadata": {},
   "outputs": [],
   "source": []
  }
 ],
 "metadata": {
  "kernelspec": {
   "display_name": "Python 3",
   "language": "python",
   "name": "python3"
  },
  "language_info": {
   "codemirror_mode": {
    "name": "ipython",
    "version": 3
   },
   "file_extension": ".py",
   "mimetype": "text/x-python",
   "name": "python",
   "nbconvert_exporter": "python",
   "pygments_lexer": "ipython3",
   "version": "3.7.1"
  }
 },
 "nbformat": 4,
 "nbformat_minor": 2
}
